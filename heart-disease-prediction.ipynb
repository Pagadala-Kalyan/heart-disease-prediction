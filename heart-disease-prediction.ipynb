{
 "cells": [
  {
   "cell_type": "code",
   "execution_count": 2,
   "id": "ff1231a3",
   "metadata": {},
   "outputs": [],
   "source": [
    "import pandas as pd\n",
    "df = pd.read_csv(\"heart_cleveland_upload.csv\")\n",
    "data = df.drop(columns=\"condition\")\n",
    "target = df[\"condition\"]"
   ]
  },
  {
   "cell_type": "code",
   "execution_count": 3,
   "id": "6e83eb83",
   "metadata": {},
   "outputs": [],
   "source": [
    "cat_columns = ['sex','cp','fbs','restecg','exang','slope','ca','thal']\n",
    "num_columns = ['age','trestbps','chol','thalach','oldpeak']"
   ]
  },
  {
   "cell_type": "code",
   "execution_count": 4,
   "id": "da52d130",
   "metadata": {},
   "outputs": [],
   "source": [
    "from sklearn.preprocessing import OneHotEncoder,StandardScaler\n",
    "from sklearn.compose import make_column_transformer\n",
    "ct = make_column_transformer((StandardScaler(),num_columns),(OneHotEncoder(handle_unknown=\"ignore\"),cat_columns))"
   ]
  },
  {
   "cell_type": "code",
   "execution_count": 5,
   "id": "afb4f042",
   "metadata": {},
   "outputs": [],
   "source": [
    "from sklearn.pipeline import make_pipeline\n",
    "from sklearn.linear_model import LogisticRegression\n",
    "model = make_pipeline(ct,LogisticRegression())\n"
   ]
  },
  {
   "cell_type": "code",
   "execution_count": 6,
   "id": "7dc5e14f",
   "metadata": {},
   "outputs": [
    {
     "name": "stdout",
     "output_type": "stream",
     "text": [
      "mean score 0.802 + 0.087\n"
     ]
    }
   ],
   "source": [
    "from sklearn.model_selection import cross_validate\n",
    "cv = cross_validate(model,data,target)\n",
    "print(f'mean score {cv['test_score'].mean():.3f} + {cv['test_score'].std():.3f}')"
   ]
  }
 ],
 "metadata": {
  "kernelspec": {
   "display_name": "Python 3",
   "language": "python",
   "name": "python3"
  },
  "language_info": {
   "codemirror_mode": {
    "name": "ipython",
    "version": 3
   },
   "file_extension": ".py",
   "mimetype": "text/x-python",
   "name": "python",
   "nbconvert_exporter": "python",
   "pygments_lexer": "ipython3",
   "version": "3.12.10"
  }
 },
 "nbformat": 4,
 "nbformat_minor": 5
}
